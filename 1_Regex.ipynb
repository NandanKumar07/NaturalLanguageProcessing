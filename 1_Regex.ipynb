{
  "nbformat": 4,
  "nbformat_minor": 0,
  "metadata": {
    "colab": {
      "provenance": [],
      "authorship_tag": "ABX9TyPW56uYOeNa4q/8av81xFR1",
      "include_colab_link": true
    },
    "kernelspec": {
      "name": "python3",
      "display_name": "Python 3"
    },
    "language_info": {
      "name": "python"
    }
  },
  "cells": [
    {
      "cell_type": "markdown",
      "metadata": {
        "id": "view-in-github",
        "colab_type": "text"
      },
      "source": [
        "<a href=\"https://colab.research.google.com/github/NandanKumar07/NaturalLanuageProcessing/blob/main/1_Regex.ipynb\" target=\"_parent\"><img src=\"https://colab.research.google.com/assets/colab-badge.svg\" alt=\"Open In Colab\"/></a>"
      ]
    },
    {
      "cell_type": "code",
      "execution_count": 1,
      "metadata": {
        "id": "lBqSjwgn2zXu"
      },
      "outputs": [],
      "source": [
        "import re"
      ]
    },
    {
      "cell_type": "markdown",
      "source": [
        "Above is a library called \"re\" for using a regular expressions. For better understanding go to [Regex](https://regex101.com/)"
      ],
      "metadata": {
        "id": "kc_CqMOF4vNw"
      }
    },
    {
      "cell_type": "code",
      "source": [
        "text = '''\n",
        "Elon Musk's phone number is 99911116666, call him if you have any questions on dogecoin. Tesla's revenue is 40 billion. Tesla's CFO number (999)-333-7777'''\n",
        "\n",
        "pattern = '\\(\\d{3}\\)-\\d{3}-\\d{4}|\\d{10}'"
      ],
      "metadata": {
        "id": "QckdoWEX4reC"
      },
      "execution_count": 2,
      "outputs": []
    },
    {
      "cell_type": "markdown",
      "source": [
        "In this pattern 'pattern = '\\(\\d{3}\\)-\\d{3}-\\d{4}|\\d{10}'' :- \\d is suggesting a number, and \\d{3} is suggesting a 3 digit number.  \n",
        "\n",
        "'\\(\\d{3}\\)-\\d{3}-\\d{4} | \\d{10}' suggesting that either this pattern or this pattern.\n"
      ],
      "metadata": {
        "id": "8a9ZoA9p58rP"
      }
    },
    {
      "cell_type": "code",
      "source": [
        "matches = re.findall(pattern, text)\n",
        "matches"
      ],
      "metadata": {
        "colab": {
          "base_uri": "https://localhost:8080/"
        },
        "id": "x6EP6_zw58B_",
        "outputId": "406dd89d-4083-48eb-b3b2-e2b5b3805504"
      },
      "execution_count": 3,
      "outputs": [
        {
          "output_type": "execute_result",
          "data": {
            "text/plain": [
              "['9991111666', '(999)-333-7777']"
            ]
          },
          "metadata": {},
          "execution_count": 3
        }
      ]
    },
    {
      "cell_type": "markdown",
      "source": [
        "Now, what we are doing is first I have written the text and then from that text we are extracting some string pattern."
      ],
      "metadata": {
        "id": "ChCLtfxS8Kzg"
      }
    },
    {
      "cell_type": "code",
      "source": [
        "text = '''\n",
        "Note 1 - Summary of Significant Accounting Policies\n",
        "Unaudited Interim Financial Statements\n",
        "The consolidated financial statements of Tesla, Inc. (“Tesla”, the “Company”, “we”, “us” or “our”), including the consolidated balance sheet as of\n",
        "September 30, 2023, the consolidated statements of operations, the consolidated statements of comprehensive income, the consolidated statements of\n",
        "redeemable noncontrolling interests and equity for the three and nine months ended September 30, 2023 and 2022, and the consolidated statements of\n",
        "cash flows for the nine months ended September 30, 2023 and 2022, as well as other information disclosed in the accompanying notes, are unaudited.\n",
        "The consolidated balance sheet as of December 31, 2022 was derived from the audited consolidated financial statements as of that date. The interim\n",
        "consolidated financial statements and the accompanying notes should be read in conjunction with the annual consolidated financial statements and the\n",
        "accompanying notes contained in our Annual Report on Form 10-K for the year ended December 31, 2022.\n",
        "Note 2 - Fair Value of Financial Instruments\n",
        "ASC 820, Fair Value Measurements (“ASC 820”) states that fair value is an exit price, representing the amount that would be received to sell an\n",
        "asset or paid to transfer a liability in an orderly transaction between market participants. As such, fair value is a market-based measurement that should\n",
        "be determined based on assumptions that market participants would use in pricing an asset or a liability. The three-tiered fair value hierarchy, which\n",
        "prioritizes which inputs should be used in measuring fair value, is comprised of: (Level I) observable inputs such as quoted prices in active markets; (Level\n",
        "II) inputs other than quoted prices in active markets that are observable either directly or indirectly and (Level III) unobservable inputs for which there is\n",
        "little or no market data. The fair value hierarchy requires the use of observable market data when available in determining fair value.\n",
        "'''\n",
        "\n",
        "pattern = 'Note \\d - [^\\n]*'"
      ],
      "metadata": {
        "id": "j_d8NNzF6f0p"
      },
      "execution_count": 11,
      "outputs": []
    },
    {
      "cell_type": "markdown",
      "source": [
        "In this pattern `(pattern = 'Note \\d - [^\\n]*')` this Note `\\d` - indicating that all the Note section with one digit number after Note string.\n",
        "And then one hyphen(-) and then `[^\\n]*` this pattern suggesting that every string but not \\n(next line character)- Now this pattern help us to find <br>\n",
        "Note 1 – Summary of Significant Accounting Policies\n",
        "Note 2 – Fair Value of Financial Instruments"
      ],
      "metadata": {
        "id": "5Zp6kBxh9vH0"
      }
    },
    {
      "cell_type": "code",
      "source": [
        "matches = re.findall(pattern, text)\n",
        "matches"
      ],
      "metadata": {
        "colab": {
          "base_uri": "https://localhost:8080/"
        },
        "id": "6MxAxJdt9uNI",
        "outputId": "93b759c3-0894-40c8-ff22-47c5e744f6f9"
      },
      "execution_count": 12,
      "outputs": [
        {
          "output_type": "execute_result",
          "data": {
            "text/plain": [
              "['Note 1 - Summary of Significant Accounting Policies',\n",
              " 'Note 2 - Fair Value of Financial Instruments']"
            ]
          },
          "metadata": {},
          "execution_count": 12
        }
      ]
    },
    {
      "cell_type": "markdown",
      "source": [
        "**Extract financial periods from a company's financial reporting**"
      ],
      "metadata": {
        "id": "xN9HV3OhACc2"
      }
    },
    {
      "cell_type": "code",
      "source": [
        "text = '''\n",
        "The gross cost of operating lease vehicles in FY2021 Q1 was $4.85 billion.\n",
        "In previous quarter i.e. FY2020 Q4 it was $3 billion.\n",
        "'''\n",
        "\n",
        "# pattern = 'FY\\d{4} Q[1234]' this will find \"FYABCD Qa\" where ABCD is a four digit number and a >= 1 and a <= 4\n",
        "\n",
        "pattern = 'FY\\d{4} Q[1-4]'\n",
        "\n",
        "matches = re.findall(pattern, text)\n",
        "matches"
      ],
      "metadata": {
        "colab": {
          "base_uri": "https://localhost:8080/"
        },
        "id": "jjDUk9Cc_EVp",
        "outputId": "c075097d-e3d9-4c48-b63c-145b0555934a"
      },
      "execution_count": 13,
      "outputs": [
        {
          "output_type": "execute_result",
          "data": {
            "text/plain": [
              "['FY2021 Q1', 'FY2020 Q4']"
            ]
          },
          "metadata": {},
          "execution_count": 13
        }
      ]
    },
    {
      "cell_type": "markdown",
      "source": [
        "Also If we want to ignore the lowercase:\n",
        "\n",
        "PS: you can read about flags in regular expression on the [REGEX documentation](https://docs.python.org/3/library/re.html)\n",
        "\n"
      ],
      "metadata": {
        "id": "NdpgANhtBV3s"
      }
    },
    {
      "cell_type": "code",
      "source": [
        "text = '''\n",
        "The gross cost of operating lease vehicles in FY2021 Q1 was $4.85 billion.\n",
        "In previous quarter i.e. Fy2020 Q4 it was $3 billion.\n",
        "'''\n",
        "\n",
        "pattern = 'FY\\d{4} Q[1-4]'\n",
        "pattern1 = 'FY(\\d{4} Q[1-4])'\n",
        "matches = re.findall(pattern, text, flags = re.IGNORECASE)\n",
        "matches1 = re.findall(pattern1, text, flags = re.IGNORECASE)\n",
        "print(matches, matches1)"
      ],
      "metadata": {
        "colab": {
          "base_uri": "https://localhost:8080/"
        },
        "id": "J4wkaEFsBOwG",
        "outputId": "f53c637b-274f-42f8-9247-4715b1d6412b"
      },
      "execution_count": 19,
      "outputs": [
        {
          "output_type": "stream",
          "name": "stdout",
          "text": [
            "['FY2021 Q1', 'Fy2020 Q4'] ['2021 Q1', '2020 Q4']\n"
          ]
        }
      ]
    },
    {
      "cell_type": "markdown",
      "source": [
        "**Extracting the number which looks like similar to revenue of company. for e.g $3 billion**\n"
      ],
      "metadata": {
        "id": "aZy2VP-oDQRi"
      }
    },
    {
      "cell_type": "code",
      "source": [
        "text = '''\n",
        "The gross cost of operating lease vehicles in FY2021 Q1 was $4.85 billion.\n",
        "Tesla Employee count is 5400.\n",
        "In previous quarter i.e. Fy2020 Q4 it was $3 billion.\n",
        "'''\n",
        "\n",
        "# pattern = '$[\\d.]+' but if I use here '$' sign and '.' it means End of String in Regex and . this means Any Single Character.\n",
        "# So, Another Approach is: we write dollar as \\$ and dot as \\. ,  this means literals.\n",
        "\n",
        "pattern = '\\$[\\d\\.]+'\n",
        "# We can write pattern = '\\$[0-9\\.]+' too.\n",
        "\n",
        "# also if we do not want $ sign.\n",
        "pattern1 = '\\$([0-9\\.]+)'\n",
        "\n",
        "m = re.findall(pattern, text)\n",
        "m1 = re.findall(pattern1, text)\n",
        "\n",
        "print(m, m1)"
      ],
      "metadata": {
        "colab": {
          "base_uri": "https://localhost:8080/"
        },
        "id": "u4vlLngrBkrl",
        "outputId": "5a90e065-90c1-45a0-91cf-1da047320ffa"
      },
      "execution_count": 23,
      "outputs": [
        {
          "output_type": "stream",
          "name": "stdout",
          "text": [
            "['$4.85', '$3'] ['4.85', '3']\n"
          ]
        }
      ]
    },
    {
      "cell_type": "code",
      "source": [
        "text = '''\n",
        "The gross cost of operating lease vehicles in FY2021 Q1 was $4.85 billion.\n",
        "Tesla Employee count is 5400.\n",
        "In previous quarter i.e. Fy2020 Q4 it was $3 billion.\n",
        "'''\n",
        "\n",
        "pattern = 'FY(\\d{4} Q[1-4])[^\\$]+\\$([0-9\\.]+)'\n",
        "\n",
        "m = re.findall(pattern, text, flags = re.IGNORECASE)\n",
        "m"
      ],
      "metadata": {
        "colab": {
          "base_uri": "https://localhost:8080/"
        },
        "id": "AV0kKbVhE4sV",
        "outputId": "95e3d168-59b9-4c35-c905-a4ea6cae5c96"
      },
      "execution_count": 25,
      "outputs": [
        {
          "output_type": "execute_result",
          "data": {
            "text/plain": [
              "[('2021 Q1', '4.85'), ('2020 Q4', '3')]"
            ]
          },
          "metadata": {},
          "execution_count": 25
        }
      ]
    },
    {
      "cell_type": "code",
      "source": [],
      "metadata": {
        "id": "cq53DZwVG7FI"
      },
      "execution_count": 26,
      "outputs": []
    },
    {
      "cell_type": "code",
      "source": [],
      "metadata": {
        "id": "8h5VFnMdGfMc"
      },
      "execution_count": null,
      "outputs": []
    }
  ]
}